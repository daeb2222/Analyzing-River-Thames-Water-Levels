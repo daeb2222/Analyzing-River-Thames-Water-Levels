{
 "cells": [
  {
   "attachments": {},
   "cell_type": "markdown",
   "id": "35d4e17b-eeb6-40dd-a140-7b949390e115",
   "metadata": {
    "tags": []
   },
   "source": [
    "# Analyzing River Thames Water Levels\n",
    "Time series data is everywhere, from watching your stock portfolio to monitoring climate change, and even live-tracking as local cases of a virus become a global pandemic. In this project, you’ll work with a time series that tracks the tide levels of the Thames River. You’ll first load the data and inspect it data visually, and then perform calculations on the dataset to generate some summary statistics. You’ll end by reducing the time series to its component attributes and analyzing them. \n",
    "\n",
    "The original dataset is available from the British Oceanographic Data Center.\n",
    "\n",
    "Here's a map of the locations of the tidal meters along the River Thames in London.\n",
    "\n",
    "![](locations.png)\n",
    "\n",
    "The provided datasets are in the `data` folder in this workspace. For this project, you will work with one of these files, `10-11_London_Bridge.txt`, which contains comma separated values for water levels in the Thames River at the London Bridge. After you've finished the project, you can use your same code to analyze data from the other files (at other spots in the UK where tidal data is collected) if you'd like. \n",
    "\n",
    "The TXT file contains data for three variables, described in the table below. \n",
    "\n",
    "| Variable Name | Description | Format |\n",
    "| ------------- | ----------- | ------ |\n",
    "| Date and time | Date and time of measurement to GMT. Note the tide gauge is accurate to one minute. | dd/mm/yyyy hh:mm:ss |\n",
    "| Water level | High or low water level measured by tide meter. Tide gauges are accurate to 1 centimetre. | metres (Admiralty Chart Datum (CD), Ordnance Datum Newlyn (ODN or Trinity High Water (THW)) | \n",
    "| Flag | High water flag = 1, low water flag = 0 | Categorical (0 or 1) |\n",
    "\n"
   ]
  },
  {
   "cell_type": "code",
   "execution_count": 27,
   "id": "2ca4359b-3fb7-4cfc-8017-36f70e928fba",
   "metadata": {
    "chartConfig": {
     "bar": {
      "hasRoundedCorners": true,
      "stacked": false
     },
     "type": "bar",
     "version": "v1"
    },
    "executionCancelledAt": null,
    "executionTime": 85,
    "lastExecutedAt": 1738894451493,
    "lastExecutedByKernel": "a51472dd-8163-4871-bd75-555aa185f8b5",
    "lastScheduledRunId": null,
    "lastSuccessfullyExecutedCode": "import pandas as pd               \nimport numpy as np\n\n#functions\ndef IQR(column): \n    \"\"\" Calculates the interquartile range (IQR) for a given DataFrame column using the quantile method \"\"\"\n    q25, q75 = column.quantile([0.25, 0.75])\n    return q75-q25\n\n#load data\nwater_levels_main_df = pd.read_csv(\"./data/10-11_London_Bridge.txt\",sep=\",\")\nwater_levels_main_df.head()",
    "outputsMetadata": {
     "0": {
      "height": 50,
      "tableState": {
       "customFilter": {
        "const": {
         "type": "boolean",
         "valid": true,
         "value": true
        },
        "id": "195a3551-606e-4319-ac32-d93e5164adb0",
        "nodeType": "const"
       },
       "quickFilterText": ""
      },
      "type": "dataFrame"
     }
    },
    "visualizeDataframe": false
   },
   "outputs": [
    {
     "data": {
      "text/html": [
       "<div>\n",
       "<style scoped>\n",
       "    .dataframe tbody tr th:only-of-type {\n",
       "        vertical-align: middle;\n",
       "    }\n",
       "\n",
       "    .dataframe tbody tr th {\n",
       "        vertical-align: top;\n",
       "    }\n",
       "\n",
       "    .dataframe thead th {\n",
       "        text-align: right;\n",
       "    }\n",
       "</style>\n",
       "<table border=\"1\" class=\"dataframe\">\n",
       "  <thead>\n",
       "    <tr style=\"text-align: right;\">\n",
       "      <th></th>\n",
       "      <th>Date and time</th>\n",
       "      <th>water level (m ODN)</th>\n",
       "      <th>flag</th>\n",
       "      <th>HW=1 or LW=0</th>\n",
       "    </tr>\n",
       "  </thead>\n",
       "  <tbody>\n",
       "    <tr>\n",
       "      <th>0</th>\n",
       "      <td>01/05/1911 15:40:00</td>\n",
       "      <td>3.7130</td>\n",
       "      <td>1</td>\n",
       "      <td>NaN</td>\n",
       "    </tr>\n",
       "    <tr>\n",
       "      <th>1</th>\n",
       "      <td>02/05/1911 11:25:00</td>\n",
       "      <td>-2.9415</td>\n",
       "      <td>0</td>\n",
       "      <td>NaN</td>\n",
       "    </tr>\n",
       "    <tr>\n",
       "      <th>2</th>\n",
       "      <td>02/05/1911 16:05:00</td>\n",
       "      <td>3.3828</td>\n",
       "      <td>1</td>\n",
       "      <td>NaN</td>\n",
       "    </tr>\n",
       "    <tr>\n",
       "      <th>3</th>\n",
       "      <td>03/05/1911 11:50:00</td>\n",
       "      <td>-2.6367</td>\n",
       "      <td>0</td>\n",
       "      <td>NaN</td>\n",
       "    </tr>\n",
       "    <tr>\n",
       "      <th>4</th>\n",
       "      <td>03/05/1911 16:55:00</td>\n",
       "      <td>2.9256</td>\n",
       "      <td>1</td>\n",
       "      <td>NaN</td>\n",
       "    </tr>\n",
       "  </tbody>\n",
       "</table>\n",
       "</div>"
      ],
      "text/plain": [
       "         Date and time  water level (m ODN)   flag   HW=1 or LW=0\n",
       "0  01/05/1911 15:40:00               3.7130      1            NaN\n",
       "1  02/05/1911 11:25:00              -2.9415      0            NaN\n",
       "2  02/05/1911 16:05:00               3.3828      1            NaN\n",
       "3  03/05/1911 11:50:00              -2.6367      0            NaN\n",
       "4  03/05/1911 16:55:00               2.9256      1            NaN"
      ]
     },
     "execution_count": 27,
     "metadata": {},
     "output_type": "execute_result"
    }
   ],
   "source": [
    "import pandas as pd               \n",
    "import numpy as np\n",
    "\n",
    "#functions\n",
    "def IQR(column): \n",
    "    \"\"\" Calculates the interquartile range (IQR) for a given DataFrame column using the quantile method \"\"\"\n",
    "    q25, q75 = column.quantile([0.25, 0.75])\n",
    "    return q75-q25\n",
    "\n",
    "#load data\n",
    "water_levels_main_df = pd.read_csv(\"./data/10-11_London_Bridge.txt\",sep=\",\")\n",
    "water_levels_main_df.head()"
   ]
  },
  {
   "cell_type": "code",
   "execution_count": 28,
   "id": "7b3cd620-ad98-4b04-84f4-bc759626ed54",
   "metadata": {
    "executionCancelledAt": null,
    "executionTime": 55,
    "lastExecutedAt": 1738894451548,
    "lastExecutedByKernel": "a51472dd-8163-4871-bd75-555aa185f8b5",
    "lastScheduledRunId": null,
    "lastSuccessfullyExecutedCode": "#check types, columns\nprint(water_levels_main_df.dtypes)\nprint(water_levels_main_df.keys())\n#strip the columns, there are spaces and is better to just trim it for better use later\nwater_levels_main_df.rename(columns={x:x.strip() for x in water_levels_main_df.columns},inplace=True)\nprint(water_levels_main_df.keys())\n",
    "outputsMetadata": {
     "0": {
      "height": 164,
      "type": "stream"
     },
     "1": {
      "height": 500,
      "tableState": {
       "quickFilterText": ""
      },
      "type": "dataFrame"
     }
    }
   },
   "outputs": [
    {
     "name": "stdout",
     "output_type": "stream",
     "text": [
      "Date and time            object\n",
      " water level (m ODN)     object\n",
      " flag                     int64\n",
      " HW=1 or LW=0           float64\n",
      "dtype: object\n",
      "Index(['Date and time', ' water level (m ODN)', ' flag', ' HW=1 or LW=0'], dtype='object')\n",
      "Index(['Date and time', 'water level (m ODN)', 'flag', 'HW=1 or LW=0'], dtype='object')\n"
     ]
    }
   ],
   "source": [
    "#check types, columns\n",
    "print(water_levels_main_df.dtypes)\n",
    "print(water_levels_main_df.keys())\n",
    "#strip the columns, there are spaces and is better to just trim it for better use later\n",
    "water_levels_main_df.rename(columns={x:x.strip() for x in water_levels_main_df.columns},inplace=True)\n",
    "print(water_levels_main_df.keys())\n"
   ]
  },
  {
   "cell_type": "code",
   "execution_count": 29,
   "id": "17c838ee-8199-48d2-bca8-e05f5ae2efce",
   "metadata": {
    "chartConfig": {
     "bar": {
      "hasRoundedCorners": true,
      "stacked": false
     },
     "type": "bar",
     "version": "v1"
    },
    "executionCancelledAt": null,
    "executionTime": 72,
    "lastExecutedAt": 1738894451620,
    "lastExecutedByKernel": "a51472dd-8163-4871-bd75-555aa185f8b5",
    "lastScheduledRunId": null,
    "lastSuccessfullyExecutedCode": "#check empty values\ndisplay(water_levels_main_df.isna().sum())\nprint(water_levels_main_df.shape) #discovered that a column is completely empty",
    "outputsMetadata": {
     "0": {
      "height": 50,
      "tableState": {
       "customFilter": {
        "const": {
         "type": "boolean",
         "valid": true,
         "value": true
        },
        "id": "195a3551-606e-4319-ac32-d93e5164adb0",
        "nodeType": "const"
       },
       "quickFilterText": ""
      },
      "type": "dataFrame"
     },
     "1": {
      "height": 38,
      "type": "stream"
     }
    },
    "visualizeDataframe": false
   },
   "outputs": [
    {
     "data": {
      "text/plain": [
       "Date and time               0\n",
       "water level (m ODN)         0\n",
       "flag                        0\n",
       "HW=1 or LW=0           115503\n",
       "dtype: int64"
      ]
     },
     "metadata": {},
     "output_type": "display_data"
    },
    {
     "name": "stdout",
     "output_type": "stream",
     "text": [
      "(115503, 4)\n"
     ]
    }
   ],
   "source": [
    "#check empty values\n",
    "display(water_levels_main_df.isna().sum())\n",
    "print(water_levels_main_df.shape) #discovered that a column is completely empty"
   ]
  },
  {
   "cell_type": "code",
   "execution_count": 30,
   "id": "efcf6e90-cc3e-4a97-b9c2-b742c3e1b62c",
   "metadata": {
    "executionCancelledAt": null,
    "executionTime": 51,
    "lastExecutedAt": 1738894451671,
    "lastExecutedByKernel": "a51472dd-8163-4871-bd75-555aa185f8b5",
    "lastScheduledRunId": null,
    "lastSuccessfullyExecutedCode": "#create new data frame without useless column HW...\nwater_levels_df = water_levels_main_df.drop(\"HW=1 or LW=0\",axis=1)\ndisplay(water_levels_df.head())",
    "outputsMetadata": {
     "0": {
      "height": 50,
      "tableState": {
       "customFilter": {
        "const": {
         "type": "boolean",
         "valid": true,
         "value": true
        },
        "id": "195a3551-606e-4319-ac32-d93e5164adb0",
        "nodeType": "const"
       },
       "quickFilterText": ""
      },
      "type": "dataFrame"
     }
    },
    "visualizeDataframe": false
   },
   "outputs": [
    {
     "data": {
      "text/html": [
       "<div>\n",
       "<style scoped>\n",
       "    .dataframe tbody tr th:only-of-type {\n",
       "        vertical-align: middle;\n",
       "    }\n",
       "\n",
       "    .dataframe tbody tr th {\n",
       "        vertical-align: top;\n",
       "    }\n",
       "\n",
       "    .dataframe thead th {\n",
       "        text-align: right;\n",
       "    }\n",
       "</style>\n",
       "<table border=\"1\" class=\"dataframe\">\n",
       "  <thead>\n",
       "    <tr style=\"text-align: right;\">\n",
       "      <th></th>\n",
       "      <th>Date and time</th>\n",
       "      <th>water level (m ODN)</th>\n",
       "      <th>flag</th>\n",
       "    </tr>\n",
       "  </thead>\n",
       "  <tbody>\n",
       "    <tr>\n",
       "      <th>0</th>\n",
       "      <td>01/05/1911 15:40:00</td>\n",
       "      <td>3.7130</td>\n",
       "      <td>1</td>\n",
       "    </tr>\n",
       "    <tr>\n",
       "      <th>1</th>\n",
       "      <td>02/05/1911 11:25:00</td>\n",
       "      <td>-2.9415</td>\n",
       "      <td>0</td>\n",
       "    </tr>\n",
       "    <tr>\n",
       "      <th>2</th>\n",
       "      <td>02/05/1911 16:05:00</td>\n",
       "      <td>3.3828</td>\n",
       "      <td>1</td>\n",
       "    </tr>\n",
       "    <tr>\n",
       "      <th>3</th>\n",
       "      <td>03/05/1911 11:50:00</td>\n",
       "      <td>-2.6367</td>\n",
       "      <td>0</td>\n",
       "    </tr>\n",
       "    <tr>\n",
       "      <th>4</th>\n",
       "      <td>03/05/1911 16:55:00</td>\n",
       "      <td>2.9256</td>\n",
       "      <td>1</td>\n",
       "    </tr>\n",
       "  </tbody>\n",
       "</table>\n",
       "</div>"
      ],
      "text/plain": [
       "         Date and time water level (m ODN)  flag\n",
       "0  01/05/1911 15:40:00              3.7130     1\n",
       "1  02/05/1911 11:25:00             -2.9415     0\n",
       "2  02/05/1911 16:05:00              3.3828     1\n",
       "3  03/05/1911 11:50:00             -2.6367     0\n",
       "4  03/05/1911 16:55:00              2.9256     1"
      ]
     },
     "metadata": {},
     "output_type": "display_data"
    }
   ],
   "source": [
    "#create new data frame without useless column HW...\n",
    "water_levels_df = water_levels_main_df.drop(\"HW=1 or LW=0\",axis=1)\n",
    "display(water_levels_df.head())"
   ]
  },
  {
   "cell_type": "code",
   "execution_count": 31,
   "id": "3fd078a0-3e65-475c-9b8f-0b0584e3adf6",
   "metadata": {
    "executionCancelledAt": null,
    "executionTime": 8786,
    "lastExecutedAt": 1738894460457,
    "lastExecutedByKernel": "a51472dd-8163-4871-bd75-555aa185f8b5",
    "lastScheduledRunId": null,
    "lastSuccessfullyExecutedCode": "#set correct types to columns\nwater_levels_df[\"Date and time\"] = pd.to_datetime(water_levels_df[\"Date and time\"])\nwater_levels_df[\"water level (m ODN)\"] = water_levels_df[\"water level (m ODN)\"].astype(\"float\")\nwater_levels_df.rename(columns={\"water level (m ODN)\":\"water_level\"}, inplace=True)\ndisplay(water_levels_df.dtypes)\n#setting useful date columns\nwater_levels_df[\"year\"] = water_levels_df[\"Date and time\"].dt.year\nwater_levels_df[\"month\"] = water_levels_df[\"Date and time\"].dt.month\nwater_levels_df[\"day\"] = water_levels_df[\"Date and time\"].dt.day\ndisplay(water_levels_df.head())",
    "outputsMetadata": {
     "0": {
      "height": 550,
      "tableState": {
       "customFilter": {
        "const": {
         "type": "boolean",
         "valid": true,
         "value": true
        },
        "id": "fe9af45e-db28-4d64-a52a-40df9c584812",
        "nodeType": "const"
       },
       "quickFilterText": ""
      },
      "type": "dataFrame"
     },
     "1": {
      "height": 50,
      "tableState": {
       "customFilter": {
        "const": {
         "type": "boolean",
         "valid": true,
         "value": true
        },
        "id": "fe9af45e-db28-4d64-a52a-40df9c584812",
        "nodeType": "const"
       },
       "quickFilterText": ""
      },
      "type": "dataFrame"
     }
    }
   },
   "outputs": [
    {
     "data": {
      "text/plain": [
       "Date and time    datetime64[ns]\n",
       "water_level             float64\n",
       "flag                      int64\n",
       "dtype: object"
      ]
     },
     "metadata": {},
     "output_type": "display_data"
    },
    {
     "data": {
      "text/html": [
       "<div>\n",
       "<style scoped>\n",
       "    .dataframe tbody tr th:only-of-type {\n",
       "        vertical-align: middle;\n",
       "    }\n",
       "\n",
       "    .dataframe tbody tr th {\n",
       "        vertical-align: top;\n",
       "    }\n",
       "\n",
       "    .dataframe thead th {\n",
       "        text-align: right;\n",
       "    }\n",
       "</style>\n",
       "<table border=\"1\" class=\"dataframe\">\n",
       "  <thead>\n",
       "    <tr style=\"text-align: right;\">\n",
       "      <th></th>\n",
       "      <th>Date and time</th>\n",
       "      <th>water_level</th>\n",
       "      <th>flag</th>\n",
       "      <th>year</th>\n",
       "      <th>month</th>\n",
       "      <th>day</th>\n",
       "    </tr>\n",
       "  </thead>\n",
       "  <tbody>\n",
       "    <tr>\n",
       "      <th>0</th>\n",
       "      <td>1911-05-01 15:40:00</td>\n",
       "      <td>3.7130</td>\n",
       "      <td>1</td>\n",
       "      <td>1911</td>\n",
       "      <td>5</td>\n",
       "      <td>1</td>\n",
       "    </tr>\n",
       "    <tr>\n",
       "      <th>1</th>\n",
       "      <td>1911-05-02 11:25:00</td>\n",
       "      <td>-2.9415</td>\n",
       "      <td>0</td>\n",
       "      <td>1911</td>\n",
       "      <td>5</td>\n",
       "      <td>2</td>\n",
       "    </tr>\n",
       "    <tr>\n",
       "      <th>2</th>\n",
       "      <td>1911-05-02 16:05:00</td>\n",
       "      <td>3.3828</td>\n",
       "      <td>1</td>\n",
       "      <td>1911</td>\n",
       "      <td>5</td>\n",
       "      <td>2</td>\n",
       "    </tr>\n",
       "    <tr>\n",
       "      <th>3</th>\n",
       "      <td>1911-05-03 11:50:00</td>\n",
       "      <td>-2.6367</td>\n",
       "      <td>0</td>\n",
       "      <td>1911</td>\n",
       "      <td>5</td>\n",
       "      <td>3</td>\n",
       "    </tr>\n",
       "    <tr>\n",
       "      <th>4</th>\n",
       "      <td>1911-05-03 16:55:00</td>\n",
       "      <td>2.9256</td>\n",
       "      <td>1</td>\n",
       "      <td>1911</td>\n",
       "      <td>5</td>\n",
       "      <td>3</td>\n",
       "    </tr>\n",
       "  </tbody>\n",
       "</table>\n",
       "</div>"
      ],
      "text/plain": [
       "        Date and time  water_level  flag  year  month  day\n",
       "0 1911-05-01 15:40:00       3.7130     1  1911      5    1\n",
       "1 1911-05-02 11:25:00      -2.9415     0  1911      5    2\n",
       "2 1911-05-02 16:05:00       3.3828     1  1911      5    2\n",
       "3 1911-05-03 11:50:00      -2.6367     0  1911      5    3\n",
       "4 1911-05-03 16:55:00       2.9256     1  1911      5    3"
      ]
     },
     "metadata": {},
     "output_type": "display_data"
    }
   ],
   "source": [
    "#set correct types to columns\n",
    "water_levels_df[\"Date and time\"] = pd.to_datetime(water_levels_df[\"Date and time\"],dayfirst=True)\n",
    "water_levels_df[\"water level (m ODN)\"] = water_levels_df[\"water level (m ODN)\"].astype(\"float\")\n",
    "water_levels_df.rename(columns={\"water level (m ODN)\":\"water_level\"}, inplace=True)\n",
    "display(water_levels_df.dtypes)\n",
    "#setting useful date columns\n",
    "water_levels_df[\"year\"] = water_levels_df[\"Date and time\"].dt.year\n",
    "water_levels_df[\"month\"] = water_levels_df[\"Date and time\"].dt.month\n",
    "water_levels_df[\"day\"] = water_levels_df[\"Date and time\"].dt.day\n",
    "display(water_levels_df.head())"
   ]
  },
  {
   "cell_type": "markdown",
   "id": "b6ed607a-4a1b-47dd-a7f0-1c317d28fffd",
   "metadata": {},
   "source": [
    "# Separating high- and low-tide summary statistics in different dataframes"
   ]
  },
  {
   "cell_type": "code",
   "execution_count": 32,
   "id": "c2ea529e-678f-4c57-97e8-e2bb772e8268",
   "metadata": {
    "executionCancelledAt": null,
    "executionTime": null,
    "lastExecutedAt": null,
    "lastExecutedByKernel": null,
    "lastScheduledRunId": null,
    "lastSuccessfullyExecutedCode": null,
    "outputsMetadata": {
     "0": {
      "height": 50,
      "tableState": {
       "customFilter": {
        "const": {
         "type": "boolean",
         "valid": true,
         "value": true
        },
        "id": "195a3551-606e-4319-ac32-d93e5164adb0",
        "nodeType": "const"
       },
       "quickFilterText": ""
      },
      "type": "dataFrame"
     },
     "1": {
      "height": 101,
      "type": "stream"
     },
     "2": {
      "height": 50,
      "tableState": {
       "customFilter": {
        "const": {
         "type": "boolean",
         "valid": true,
         "value": true
        },
        "id": "195a3551-606e-4319-ac32-d93e5164adb0",
        "nodeType": "const"
       },
       "quickFilterText": ""
      },
      "type": "dataFrame"
     },
     "3": {
      "height": 101,
      "type": "stream"
     }
    }
   },
   "outputs": [
    {
     "data": {
      "text/html": [
       "<div>\n",
       "<style scoped>\n",
       "    .dataframe tbody tr th:only-of-type {\n",
       "        vertical-align: middle;\n",
       "    }\n",
       "\n",
       "    .dataframe tbody tr th {\n",
       "        vertical-align: top;\n",
       "    }\n",
       "\n",
       "    .dataframe thead th {\n",
       "        text-align: right;\n",
       "    }\n",
       "</style>\n",
       "<table border=\"1\" class=\"dataframe\">\n",
       "  <thead>\n",
       "    <tr style=\"text-align: right;\">\n",
       "      <th></th>\n",
       "      <th>Date and time</th>\n",
       "      <th>water_level</th>\n",
       "      <th>flag</th>\n",
       "      <th>year</th>\n",
       "      <th>month</th>\n",
       "      <th>day</th>\n",
       "    </tr>\n",
       "  </thead>\n",
       "  <tbody>\n",
       "    <tr>\n",
       "      <th>0</th>\n",
       "      <td>1911-05-01 15:40:00</td>\n",
       "      <td>3.7130</td>\n",
       "      <td>1</td>\n",
       "      <td>1911</td>\n",
       "      <td>5</td>\n",
       "      <td>1</td>\n",
       "    </tr>\n",
       "    <tr>\n",
       "      <th>2</th>\n",
       "      <td>1911-05-02 16:05:00</td>\n",
       "      <td>3.3828</td>\n",
       "      <td>1</td>\n",
       "      <td>1911</td>\n",
       "      <td>5</td>\n",
       "      <td>2</td>\n",
       "    </tr>\n",
       "    <tr>\n",
       "      <th>4</th>\n",
       "      <td>1911-05-03 16:55:00</td>\n",
       "      <td>2.9256</td>\n",
       "      <td>1</td>\n",
       "      <td>1911</td>\n",
       "      <td>5</td>\n",
       "      <td>3</td>\n",
       "    </tr>\n",
       "    <tr>\n",
       "      <th>6</th>\n",
       "      <td>1911-05-04 17:45:00</td>\n",
       "      <td>3.1542</td>\n",
       "      <td>1</td>\n",
       "      <td>1911</td>\n",
       "      <td>5</td>\n",
       "      <td>4</td>\n",
       "    </tr>\n",
       "    <tr>\n",
       "      <th>7</th>\n",
       "      <td>1911-05-05 06:30:00</td>\n",
       "      <td>3.0780</td>\n",
       "      <td>1</td>\n",
       "      <td>1911</td>\n",
       "      <td>5</td>\n",
       "      <td>5</td>\n",
       "    </tr>\n",
       "  </tbody>\n",
       "</table>\n",
       "</div>"
      ],
      "text/plain": [
       "        Date and time  water_level  flag  year  month  day\n",
       "0 1911-05-01 15:40:00       3.7130     1  1911      5    1\n",
       "2 1911-05-02 16:05:00       3.3828     1  1911      5    2\n",
       "4 1911-05-03 16:55:00       2.9256     1  1911      5    3\n",
       "6 1911-05-04 17:45:00       3.1542     1  1911      5    4\n",
       "7 1911-05-05 06:30:00       3.0780     1  1911      5    5"
      ]
     },
     "metadata": {},
     "output_type": "display_data"
    },
    {
     "name": "stdout",
     "output_type": "stream",
     "text": [
      "mean      3.318373\n",
      "median    3.352600\n",
      "IQR       0.743600\n",
      "Name: water_level, dtype: float64\n"
     ]
    },
    {
     "data": {
      "text/html": [
       "<div>\n",
       "<style scoped>\n",
       "    .dataframe tbody tr th:only-of-type {\n",
       "        vertical-align: middle;\n",
       "    }\n",
       "\n",
       "    .dataframe tbody tr th {\n",
       "        vertical-align: top;\n",
       "    }\n",
       "\n",
       "    .dataframe thead th {\n",
       "        text-align: right;\n",
       "    }\n",
       "</style>\n",
       "<table border=\"1\" class=\"dataframe\">\n",
       "  <thead>\n",
       "    <tr style=\"text-align: right;\">\n",
       "      <th></th>\n",
       "      <th>Date and time</th>\n",
       "      <th>water_level</th>\n",
       "      <th>flag</th>\n",
       "      <th>year</th>\n",
       "      <th>month</th>\n",
       "      <th>day</th>\n",
       "    </tr>\n",
       "  </thead>\n",
       "  <tbody>\n",
       "    <tr>\n",
       "      <th>1</th>\n",
       "      <td>1911-05-02 11:25:00</td>\n",
       "      <td>-2.9415</td>\n",
       "      <td>0</td>\n",
       "      <td>1911</td>\n",
       "      <td>5</td>\n",
       "      <td>2</td>\n",
       "    </tr>\n",
       "    <tr>\n",
       "      <th>3</th>\n",
       "      <td>1911-05-03 11:50:00</td>\n",
       "      <td>-2.6367</td>\n",
       "      <td>0</td>\n",
       "      <td>1911</td>\n",
       "      <td>5</td>\n",
       "      <td>3</td>\n",
       "    </tr>\n",
       "    <tr>\n",
       "      <th>5</th>\n",
       "      <td>1911-05-04 12:10:00</td>\n",
       "      <td>-2.4843</td>\n",
       "      <td>0</td>\n",
       "      <td>1911</td>\n",
       "      <td>5</td>\n",
       "      <td>4</td>\n",
       "    </tr>\n",
       "    <tr>\n",
       "      <th>8</th>\n",
       "      <td>1911-05-05 13:00:00</td>\n",
       "      <td>-2.4843</td>\n",
       "      <td>0</td>\n",
       "      <td>1911</td>\n",
       "      <td>5</td>\n",
       "      <td>5</td>\n",
       "    </tr>\n",
       "    <tr>\n",
       "      <th>10</th>\n",
       "      <td>1911-05-06 14:25:00</td>\n",
       "      <td>-1.9509</td>\n",
       "      <td>0</td>\n",
       "      <td>1911</td>\n",
       "      <td>5</td>\n",
       "      <td>6</td>\n",
       "    </tr>\n",
       "  </tbody>\n",
       "</table>\n",
       "</div>"
      ],
      "text/plain": [
       "         Date and time  water_level  flag  year  month  day\n",
       "1  1911-05-02 11:25:00      -2.9415     0  1911      5    2\n",
       "3  1911-05-03 11:50:00      -2.6367     0  1911      5    3\n",
       "5  1911-05-04 12:10:00      -2.4843     0  1911      5    4\n",
       "8  1911-05-05 13:00:00      -2.4843     0  1911      5    5\n",
       "10 1911-05-06 14:25:00      -1.9509     0  1911      5    6"
      ]
     },
     "metadata": {},
     "output_type": "display_data"
    },
    {
     "name": "stdout",
     "output_type": "stream",
     "text": [
      "mean     -2.383737\n",
      "median   -2.412900\n",
      "IQR       0.538200\n",
      "Name: water_level, dtype: float64\n"
     ]
    }
   ],
   "source": [
    "#grouping high-tide\n",
    "high_tide_df = water_levels_df[water_levels_df[\"flag\"] == 1]\n",
    "high_tide_summary = high_tide_df[\"water_level\"].agg([\"mean\",\"median\",IQR])\n",
    "display(high_tide_df.head())\n",
    "print(high_tide_summary)\n",
    "\n",
    "#grouping low-tide\n",
    "low_tide_df = water_levels_df[water_levels_df[\"flag\"] == 0]\n",
    "low_tide_summary = low_tide_df[\"water_level\"].agg([\"mean\",\"median\",IQR])\n",
    "display(low_tide_df.head())\n",
    "print(low_tide_summary)"
   ]
  },
  {
   "cell_type": "markdown",
   "id": "2641ea32-8650-4cfd-85b0-0ee3a9d9ac16",
   "metadata": {},
   "source": [
    "# Calculating annual percentage of days with very high tide levels (90th percentile) and very low-tide days (10th percentile) for each year "
   ]
  },
  {
   "cell_type": "code",
   "execution_count": 33,
   "id": "4e5adf90-236c-4e85-83a9-8bc28865296f",
   "metadata": {
    "chartConfig": {
     "bar": {
      "hasRoundedCorners": true,
      "stacked": false
     },
     "type": "bar",
     "version": "v1"
    },
    "collapsed": true,
    "executionCancelledAt": null,
    "executionTime": 52,
    "jupyter": {
     "outputs_hidden": true,
     "source_hidden": false
    },
    "lastExecutedAt": 1738894460559,
    "lastExecutedByKernel": "a51472dd-8163-4871-bd75-555aa185f8b5",
    "lastScheduledRunId": null,
    "lastSuccessfullyExecutedCode": "#finding 90th quantile for high days\n# high_percentile = high_tide_df[\"water_level\"].quantile(0.9)\n#low percentile 10th quantile\n# low_percentile = low_tide_df[\"water_level\"].quantile(0.1)\n",
    "outputsMetadata": {
     "0": {
      "height": 616,
      "type": "stream"
     },
     "1": {
      "height": 550,
      "tableState": {
       "customFilter": {
        "const": {
         "type": "boolean",
         "valid": true,
         "value": true
        },
        "id": "e8e3ecff-5bba-49b4-ac69-8b37cc9acb1e",
        "nodeType": "const"
       },
       "quickFilterText": "1995"
      },
      "type": "dataFrame"
     }
    },
    "visualizeDataframe": false
   },
   "outputs": [],
   "source": [
    "#finding 90th quantile for high days\n",
    "high_percentile = high_tide_df[\"water_level\"].quantile(0.9)\n",
    "#low percentile 10th quantile\n",
    "low_percentile = low_tide_df[\"water_level\"].quantile(0.1)"
   ]
  },
  {
   "cell_type": "code",
   "execution_count": 34,
   "id": "55b07ce1-8510-43fa-851e-d4b8cc6f6728",
   "metadata": {
    "executionCancelledAt": null,
    "executionTime": 53,
    "lastExecutedAt": 1738894460612,
    "lastExecutedByKernel": "a51472dd-8163-4871-bd75-555aa185f8b5",
    "lastScheduledRunId": null,
    "lastSuccessfullyExecutedCode": "#total number of high tide days per year\nhtide_peryear = high_tide_df.groupby(\"year\")[\"water_level\"].count()\nprint(htide_peryear)\n#total number of very high tide days per year\nvhtide_peryear = high_tide_df[high_tide_df[\"water_level\"] > high_tide_df[\"water_level\"].quantile(0.90)].groupby(\"year\")[\"water_level\"].count()\nprint(vhtide_peryear)\n#percentage of high tide levels\nhratio_df = (vhtide_peryear/htide_peryear).reset_index()\nprint(hratio_df.dtypes)",
    "outputsMetadata": {
     "0": {
      "height": 562,
      "type": "stream"
     }
    }
   },
   "outputs": [
    {
     "name": "stdout",
     "output_type": "stream",
     "text": [
      "year\n",
      "1911    244\n",
      "1912    557\n",
      "1913    669\n",
      "1914    687\n",
      "1915    666\n",
      "       ... \n",
      "1991    706\n",
      "1992    707\n",
      "1993    699\n",
      "1994    705\n",
      "1995    705\n",
      "Name: water_level, Length: 85, dtype: int64\n",
      "year\n",
      "1911      1\n",
      "1912     18\n",
      "1913     55\n",
      "1914     38\n",
      "1915     30\n",
      "       ... \n",
      "1991     68\n",
      "1992     73\n",
      "1993    102\n",
      "1994    106\n",
      "1995    120\n",
      "Name: water_level, Length: 85, dtype: int64\n",
      "year             int32\n",
      "water_level    float64\n",
      "dtype: object\n"
     ]
    }
   ],
   "source": [
    "#total number of high tide days per year\n",
    "htide_peryear = high_tide_df.groupby(\"year\")[\"water_level\"].count()\n",
    "print(htide_peryear)\n",
    "#total number of very high tide days per year\n",
    "vhtide_peryear = high_tide_df[high_tide_df[\"water_level\"] > high_percentile].groupby(\"year\")[\"water_level\"].count()\n",
    "print(vhtide_peryear)\n",
    "#percentage of high tide levels\n",
    "hratio_df = (vhtide_peryear/htide_peryear).reset_index()\n",
    "print(hratio_df.dtypes)"
   ]
  },
  {
   "cell_type": "code",
   "execution_count": 35,
   "id": "6de12e72-8c15-4a9f-a6d6-b77fc211122b",
   "metadata": {
    "executionCancelledAt": null,
    "executionTime": 55,
    "lastExecutedAt": 1738894460667,
    "lastExecutedByKernel": "a51472dd-8163-4871-bd75-555aa185f8b5",
    "lastScheduledRunId": null,
    "lastSuccessfullyExecutedCode": "#total number of low tide days per year\nltide_peryear = low_tide_df.groupby(\"year\")[\"water_level\"].count()\nprint(ltide_peryear)\n#total number of very low tide days per year\nvltide_peryear = low_tide_df[low_tide_df[\"water_level\"] < low_tide_df[\"water_level\"].quantile(0.1)].groupby(\"year\")[\"water_level\"].count()\nprint(vltide_peryear)\n#percentage of high tide levels\nlratio_df = (vltide_peryear/ltide_peryear).reset_index()\nprint(lratio_df,lratio_df.dtypes)",
    "outputsMetadata": {
     "0": {
      "height": 562,
      "type": "stream"
     }
    }
   },
   "outputs": [
    {
     "name": "stdout",
     "output_type": "stream",
     "text": [
      "year\n",
      "1911    231\n",
      "1912    555\n",
      "1913    670\n",
      "1914    692\n",
      "1915    658\n",
      "       ... \n",
      "1991    705\n",
      "1992    707\n",
      "1993    701\n",
      "1994    705\n",
      "1995    705\n",
      "Name: water_level, Length: 85, dtype: int64\n",
      "year\n",
      "1911     14\n",
      "1912     37\n",
      "1913     15\n",
      "1914     27\n",
      "1915     22\n",
      "       ... \n",
      "1991    106\n",
      "1992     76\n",
      "1993     79\n",
      "1994     75\n",
      "1995     76\n",
      "Name: water_level, Length: 85, dtype: int64\n",
      "    year  water_level\n",
      "0   1911     0.060606\n",
      "1   1912     0.066667\n",
      "2   1913     0.022388\n",
      "3   1914     0.039017\n",
      "4   1915     0.033435\n",
      "..   ...          ...\n",
      "80  1991     0.150355\n",
      "81  1992     0.107496\n",
      "82  1993     0.112696\n",
      "83  1994     0.106383\n",
      "84  1995     0.107801\n",
      "\n",
      "[85 rows x 2 columns] year             int32\n",
      "water_level    float64\n",
      "dtype: object\n"
     ]
    }
   ],
   "source": [
    "#total number of low tide days per year\n",
    "ltide_peryear = low_tide_df.groupby(\"year\")[\"water_level\"].count()\n",
    "print(ltide_peryear)\n",
    "#total number of very low tide days per year\n",
    "vltide_peryear = low_tide_df[low_tide_df[\"water_level\"] < low_percentile].groupby(\"year\")[\"water_level\"].count()\n",
    "print(vltide_peryear)\n",
    "#percentage of high tide levels\n",
    "lratio_df = (vltide_peryear/ltide_peryear).reset_index()\n",
    "print(lratio_df,lratio_df.dtypes)"
   ]
  },
  {
   "cell_type": "markdown",
   "id": "f9749249-3e11-46aa-917e-203797f8b5c8",
   "metadata": {},
   "source": [
    "# Dictionary with summary of Data Analysis"
   ]
  },
  {
   "cell_type": "code",
   "execution_count": 36,
   "id": "b38d0e79-0a23-4381-ac91-e239ff9335e4",
   "metadata": {
    "executionCancelledAt": null,
    "executionTime": 52,
    "lastExecutedAt": 1738894460719,
    "lastExecutedByKernel": "a51472dd-8163-4871-bd75-555aa185f8b5",
    "lastScheduledRunId": null,
    "lastSuccessfullyExecutedCode": "solution ={\"high_statistics\":high_tide_summary,\"low_statistics\":low_tide_summary,\"very_high_ratio\":hratio_df,\"very_low_ratio\":lratio_df}"
   },
   "outputs": [],
   "source": [
    "solution ={\"high_statistics\":high_tide_summary,\"low_statistics\":low_tide_summary,\"very_high_ratio\":hratio_df,\"very_low_ratio\":lratio_df}"
   ]
  },
  {
   "cell_type": "markdown",
   "id": "59b0b54c-7006-4413-b794-49f126efccd8",
   "metadata": {},
   "source": [
    "# Some visualizations of the resulting data"
   ]
  },
  {
   "cell_type": "code",
   "execution_count": 37,
   "id": "316c88a3-936f-465d-b872-ae93ea3f92ac",
   "metadata": {
    "executionCancelledAt": null,
    "executionTime": 51,
    "lastExecutedAt": 1738894460771,
    "lastExecutedByKernel": "a51472dd-8163-4871-bd75-555aa185f8b5",
    "lastScheduledRunId": null,
    "lastSuccessfullyExecutedCode": "# import matplotlib.pyplot as plt\n# import seaborn as sns",
    "outputsMetadata": {
     "0": {
      "height": 38,
      "type": "stream"
     }
    }
   },
   "outputs": [],
   "source": [
    "import matplotlib.pyplot as plt\n",
    "import seaborn as sns\n",
    "sns.set_style(\"whitegrid\")\n",
    "plt.rcParams[\"figure.figsize\"] = (10, 6)\n"
   ]
  },
  {
   "cell_type": "markdown",
   "id": "45ee4ce9",
   "metadata": {},
   "source": [
    "# Some Hypothesis"
   ]
  },
  {
   "cell_type": "markdown",
   "id": "54070a4c",
   "metadata": {},
   "source": [
    "1. Due to climate change, the average water level of the river has increased over the years.\n"
   ]
  },
  {
   "cell_type": "code",
   "execution_count": 60,
   "id": "ce924559",
   "metadata": {},
   "outputs": [
    {
     "data": {
      "text/plain": [
       "<Axes: title={'center': 'Mean and Median of High Tide Levels per Year'}, xlabel='year'>"
      ]
     },
     "execution_count": 60,
     "metadata": {},
     "output_type": "execute_result"
    },
    {
     "data": {
      "image/png": "[encoded data removed]",
      "text/plain": [
       "<Figure size 1000x600 with 1 Axes>"
      ]
     },
     "metadata": {},
     "output_type": "display_data"
    }
   ],
   "source": [
    "#delete duplicates (we will only use the highest value of the day,\n",
    "#if there is another record in the same day but different hour it will be deleted) we will use the highest value\n",
    "daily_high_tide = high_tide_df.sort_values(\"water_level\",ascending=False).drop_duplicates([\"year\",\"month\",\"day\"])\n",
    "daily_low_tide = low_tide_df.sort_values(\"water_level\").drop_duplicates([\"year\",\"month\",\"day\"])\n",
    "#mean and median of high tide levels per year\n",
    "daily_high_tide.groupby(\"year\")[\"water_level\"].agg([\"mean\",\"median\"]).plot(kind=\"line\",title=\"Mean and Median of High Tide Levels per Year\")"
   ]
  },
  {
   "cell_type": "markdown",
   "id": "f7dcba01",
   "metadata": {},
   "source": [
    "We can see in the graph above that, in average and median, the highest water levels have increaded over the years. This could be to several factors, like climate change, construction of new buildings, etc."
   ]
  },
  {
   "cell_type": "markdown",
   "id": "7515e838",
   "metadata": {},
   "source": [
    "2. The water level of the river is influenced by the season of the year."
   ]
  },
  {
   "cell_type": "code",
   "execution_count": null,
   "id": "0e97c80e",
   "metadata": {},
   "outputs": [
    {
     "data": {
      "text/html": [
       "<div>\n",
       "<style scoped>\n",
       "    .dataframe tbody tr th:only-of-type {\n",
       "        vertical-align: middle;\n",
       "    }\n",
       "\n",
       "    .dataframe tbody tr th {\n",
       "        vertical-align: top;\n",
       "    }\n",
       "\n",
       "    .dataframe thead th {\n",
       "        text-align: right;\n",
       "    }\n",
       "</style>\n",
       "<table border=\"1\" class=\"dataframe\">\n",
       "  <thead>\n",
       "    <tr style=\"text-align: right;\">\n",
       "      <th></th>\n",
       "      <th>Date and time</th>\n",
       "      <th>water_level</th>\n",
       "      <th>flag</th>\n",
       "      <th>year</th>\n",
       "      <th>month</th>\n",
       "      <th>day</th>\n",
       "      <th>season</th>\n",
       "    </tr>\n",
       "  </thead>\n",
       "  <tbody>\n",
       "    <tr>\n",
       "      <th>0</th>\n",
       "      <td>1911-05-01 15:40:00</td>\n",
       "      <td>3.7130</td>\n",
       "      <td>1</td>\n",
       "      <td>1911</td>\n",
       "      <td>5</td>\n",
       "      <td>1</td>\n",
       "      <td>0</td>\n",
       "    </tr>\n",
       "    <tr>\n",
       "      <th>1</th>\n",
       "      <td>1911-05-02 11:25:00</td>\n",
       "      <td>-2.9415</td>\n",
       "      <td>0</td>\n",
       "      <td>1911</td>\n",
       "      <td>5</td>\n",
       "      <td>2</td>\n",
       "      <td>0</td>\n",
       "    </tr>\n",
       "    <tr>\n",
       "      <th>2</th>\n",
       "      <td>1911-05-02 16:05:00</td>\n",
       "      <td>3.3828</td>\n",
       "      <td>1</td>\n",
       "      <td>1911</td>\n",
       "      <td>5</td>\n",
       "      <td>2</td>\n",
       "      <td>0</td>\n",
       "    </tr>\n",
       "    <tr>\n",
       "      <th>3</th>\n",
       "      <td>1911-05-03 11:50:00</td>\n",
       "      <td>-2.6367</td>\n",
       "      <td>0</td>\n",
       "      <td>1911</td>\n",
       "      <td>5</td>\n",
       "      <td>3</td>\n",
       "      <td>0</td>\n",
       "    </tr>\n",
       "    <tr>\n",
       "      <th>4</th>\n",
       "      <td>1911-05-03 16:55:00</td>\n",
       "      <td>2.9256</td>\n",
       "      <td>1</td>\n",
       "      <td>1911</td>\n",
       "      <td>5</td>\n",
       "      <td>3</td>\n",
       "      <td>0</td>\n",
       "    </tr>\n",
       "  </tbody>\n",
       "</table>\n",
       "</div>"
      ],
      "text/plain": [
       "        Date and time  water_level  flag  year  month  day  season\n",
       "0 1911-05-01 15:40:00       3.7130     1  1911      5    1       0\n",
       "1 1911-05-02 11:25:00      -2.9415     0  1911      5    2       0\n",
       "2 1911-05-02 16:05:00       3.3828     1  1911      5    2       0\n",
       "3 1911-05-03 11:50:00      -2.6367     0  1911      5    3       0\n",
       "4 1911-05-03 16:55:00       2.9256     1  1911      5    3       0"
      ]
     },
     "metadata": {},
     "output_type": "display_data"
    },
    {
     "data": {
      "image/png": "[encoded data removed]",
      "text/plain": [
       "<Figure size 957.75x600 with 1 Axes>"
      ]
     },
     "metadata": {},
     "output_type": "display_data"
    }
   ],
   "source": [
    "#seasons from ranges 21st of March to 20th of June is spring, 21st of June to 20th of September is summer, 21st of September to 20th of December is autumn, 21st of December to 20th of March is winter\n",
    "def season_of_year(date_time):\n",
    "    if date_time.month == 3 and date_time.day >= 21:\n",
    "        return 0\n",
    "    elif date_time.month == 4 or date_time.month == 5:\n",
    "        return 0\n",
    "    elif date_time.month == 6 and date_time.day <= 20:\n",
    "        return 0\n",
    "    elif date_time.month == 6 and date_time.day >= 21:\n",
    "        return 1\n",
    "    elif date_time.month == 7 or date_time.month == 8:\n",
    "        return 1\n",
    "    elif date_time.month == 9 and date_time.day <= 20:\n",
    "        return 1\n",
    "    elif date_time.month == 9 and date_time.day >= 21:\n",
    "        return 2\n",
    "    elif date_time.month == 10 or date_time.month == 11:\n",
    "        return 2\n",
    "    elif date_time.month == 12 and date_time.day <= 20:\n",
    "        return 2\n",
    "    else:\n",
    "        return 3\n",
    "    \n",
    "\n",
    "#adding columns of seasons with the function\n",
    "water_levels_df[\"season\"] = water_levels_df[\"Date and time\"].apply(season_of_year)\n",
    "display(water_levels_df.head())\n",
    "\n",
    "#0 is spring, 1 is summer, 2 is autumn, 3 is winter\n",
    "sns.catplot(data=water_levels_df,x=\"flag\",y=\"water_level\",hue=\"season\",kind=\"box\",height=6,aspect=1.5)\n",
    "plt.title(\"High and Low Tide Levels by Season\")\n",
    "plt.show()\n",
    "\n",
    "\n"
   ]
  },
  {
   "cell_type": "markdown",
   "id": "5242d0b0",
   "metadata": {},
   "source": [
    "<!-- 0 is spring, 1 is summer, 2 is autumn, 3 is winter -->\n",
    "As we can see in the boxplot above, the water level of the river is influenced by the season of the year. The average and highest points are slightly remarkable on autumn. This month is usually the rainiest month in London, which could explain the higher water levels. We can see that summer and spring have the lowest water levels."
   ]
  },
  {
   "cell_type": "markdown",
   "id": "f7e6b71b",
   "metadata": {},
   "source": [
    "In conclusion, the water level of the river is influenced by the season of the year, and the average water level of the river has increased over the years."
   ]
  }
 ],
 "metadata": {
  "editor": "DataCamp Workspace",
  "kernelspec": {
   "display_name": "MachineLearning3_10_12",
   "language": "python",
   "name": "python3"
  },
  "language_info": {
   "codemirror_mode": {
    "name": "ipython",
    "version": 3
   },
   "file_extension": ".py",
   "mimetype": "text/x-python",
   "name": "python",
   "nbconvert_exporter": "python",
   "pygments_lexer": "ipython3",
   "version": "3.10.12"
  }
 },
 "nbformat": 4,
 "nbformat_minor": 5
}
